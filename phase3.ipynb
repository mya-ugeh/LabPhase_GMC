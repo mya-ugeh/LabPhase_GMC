{
 "cells": [
  {
   "cell_type": "markdown",
   "metadata": {},
   "source": [
    "<h1><b>PHASE 3 - MODEL TRAINING AND TESTING.</b></h1>\n",
    "<hr/>"
   ]
  },
  {
   "cell_type": "markdown",
   "metadata": {},
   "source": [
    "<h4><b>Phase Objective</b></h4>\n",
    "<hr/>\n",
    "<p>The objective of this phase is to produce a trained model that satisfy the desired results.</p>"
   ]
  },
  {
   "cell_type": "code",
   "execution_count": 1,
   "metadata": {},
   "outputs": [],
   "source": [
    "#import necessary libraried for visualization\n",
    "\n",
    "import pandas as pd\n",
    "import seaborn as sns\n",
    "import matplotlib.pyplot as plt\n",
    "%matplotlib inline\n"
   ]
  },
  {
   "cell_type": "markdown",
   "metadata": {},
   "source": [
    "<h3><em>Heart Data</em></h3>"
   ]
  },
  {
   "cell_type": "code",
   "execution_count": 2,
   "metadata": {},
   "outputs": [],
   "source": [
    "#Load dataset\n",
    "heart_data = pd.read_csv('heart.csv')\n",
    "heart_df = heart_data.copy()"
   ]
  },
  {
   "cell_type": "code",
   "execution_count": 3,
   "metadata": {},
   "outputs": [
    {
     "data": {
      "text/html": [
       "<div>\n",
       "<style scoped>\n",
       "    .dataframe tbody tr th:only-of-type {\n",
       "        vertical-align: middle;\n",
       "    }\n",
       "\n",
       "    .dataframe tbody tr th {\n",
       "        vertical-align: top;\n",
       "    }\n",
       "\n",
       "    .dataframe thead th {\n",
       "        text-align: right;\n",
       "    }\n",
       "</style>\n",
       "<table border=\"1\" class=\"dataframe\">\n",
       "  <thead>\n",
       "    <tr style=\"text-align: right;\">\n",
       "      <th></th>\n",
       "      <th>age</th>\n",
       "      <th>sex</th>\n",
       "      <th>cp</th>\n",
       "      <th>trestbps</th>\n",
       "      <th>chol</th>\n",
       "      <th>fbs</th>\n",
       "      <th>restecg</th>\n",
       "      <th>thalach</th>\n",
       "      <th>exang</th>\n",
       "      <th>oldpeak</th>\n",
       "      <th>slope</th>\n",
       "      <th>ca</th>\n",
       "      <th>thal</th>\n",
       "      <th>target</th>\n",
       "    </tr>\n",
       "  </thead>\n",
       "  <tbody>\n",
       "    <tr>\n",
       "      <th>0</th>\n",
       "      <td>52</td>\n",
       "      <td>1</td>\n",
       "      <td>0</td>\n",
       "      <td>125</td>\n",
       "      <td>212</td>\n",
       "      <td>0</td>\n",
       "      <td>1</td>\n",
       "      <td>168</td>\n",
       "      <td>0</td>\n",
       "      <td>1.0</td>\n",
       "      <td>2</td>\n",
       "      <td>2</td>\n",
       "      <td>3</td>\n",
       "      <td>0</td>\n",
       "    </tr>\n",
       "    <tr>\n",
       "      <th>1</th>\n",
       "      <td>53</td>\n",
       "      <td>1</td>\n",
       "      <td>0</td>\n",
       "      <td>140</td>\n",
       "      <td>203</td>\n",
       "      <td>1</td>\n",
       "      <td>0</td>\n",
       "      <td>155</td>\n",
       "      <td>1</td>\n",
       "      <td>3.1</td>\n",
       "      <td>0</td>\n",
       "      <td>0</td>\n",
       "      <td>3</td>\n",
       "      <td>0</td>\n",
       "    </tr>\n",
       "    <tr>\n",
       "      <th>2</th>\n",
       "      <td>70</td>\n",
       "      <td>1</td>\n",
       "      <td>0</td>\n",
       "      <td>145</td>\n",
       "      <td>174</td>\n",
       "      <td>0</td>\n",
       "      <td>1</td>\n",
       "      <td>125</td>\n",
       "      <td>1</td>\n",
       "      <td>2.6</td>\n",
       "      <td>0</td>\n",
       "      <td>0</td>\n",
       "      <td>3</td>\n",
       "      <td>0</td>\n",
       "    </tr>\n",
       "    <tr>\n",
       "      <th>3</th>\n",
       "      <td>61</td>\n",
       "      <td>1</td>\n",
       "      <td>0</td>\n",
       "      <td>148</td>\n",
       "      <td>203</td>\n",
       "      <td>0</td>\n",
       "      <td>1</td>\n",
       "      <td>161</td>\n",
       "      <td>0</td>\n",
       "      <td>0.0</td>\n",
       "      <td>2</td>\n",
       "      <td>1</td>\n",
       "      <td>3</td>\n",
       "      <td>0</td>\n",
       "    </tr>\n",
       "    <tr>\n",
       "      <th>4</th>\n",
       "      <td>62</td>\n",
       "      <td>0</td>\n",
       "      <td>0</td>\n",
       "      <td>138</td>\n",
       "      <td>294</td>\n",
       "      <td>1</td>\n",
       "      <td>1</td>\n",
       "      <td>106</td>\n",
       "      <td>0</td>\n",
       "      <td>1.9</td>\n",
       "      <td>1</td>\n",
       "      <td>3</td>\n",
       "      <td>2</td>\n",
       "      <td>0</td>\n",
       "    </tr>\n",
       "    <tr>\n",
       "      <th>...</th>\n",
       "      <td>...</td>\n",
       "      <td>...</td>\n",
       "      <td>...</td>\n",
       "      <td>...</td>\n",
       "      <td>...</td>\n",
       "      <td>...</td>\n",
       "      <td>...</td>\n",
       "      <td>...</td>\n",
       "      <td>...</td>\n",
       "      <td>...</td>\n",
       "      <td>...</td>\n",
       "      <td>...</td>\n",
       "      <td>...</td>\n",
       "      <td>...</td>\n",
       "    </tr>\n",
       "    <tr>\n",
       "      <th>1020</th>\n",
       "      <td>59</td>\n",
       "      <td>1</td>\n",
       "      <td>1</td>\n",
       "      <td>140</td>\n",
       "      <td>221</td>\n",
       "      <td>0</td>\n",
       "      <td>1</td>\n",
       "      <td>164</td>\n",
       "      <td>1</td>\n",
       "      <td>0.0</td>\n",
       "      <td>2</td>\n",
       "      <td>0</td>\n",
       "      <td>2</td>\n",
       "      <td>1</td>\n",
       "    </tr>\n",
       "    <tr>\n",
       "      <th>1021</th>\n",
       "      <td>60</td>\n",
       "      <td>1</td>\n",
       "      <td>0</td>\n",
       "      <td>125</td>\n",
       "      <td>258</td>\n",
       "      <td>0</td>\n",
       "      <td>0</td>\n",
       "      <td>141</td>\n",
       "      <td>1</td>\n",
       "      <td>2.8</td>\n",
       "      <td>1</td>\n",
       "      <td>1</td>\n",
       "      <td>3</td>\n",
       "      <td>0</td>\n",
       "    </tr>\n",
       "    <tr>\n",
       "      <th>1022</th>\n",
       "      <td>47</td>\n",
       "      <td>1</td>\n",
       "      <td>0</td>\n",
       "      <td>110</td>\n",
       "      <td>275</td>\n",
       "      <td>0</td>\n",
       "      <td>0</td>\n",
       "      <td>118</td>\n",
       "      <td>1</td>\n",
       "      <td>1.0</td>\n",
       "      <td>1</td>\n",
       "      <td>1</td>\n",
       "      <td>2</td>\n",
       "      <td>0</td>\n",
       "    </tr>\n",
       "    <tr>\n",
       "      <th>1023</th>\n",
       "      <td>50</td>\n",
       "      <td>0</td>\n",
       "      <td>0</td>\n",
       "      <td>110</td>\n",
       "      <td>254</td>\n",
       "      <td>0</td>\n",
       "      <td>0</td>\n",
       "      <td>159</td>\n",
       "      <td>0</td>\n",
       "      <td>0.0</td>\n",
       "      <td>2</td>\n",
       "      <td>0</td>\n",
       "      <td>2</td>\n",
       "      <td>1</td>\n",
       "    </tr>\n",
       "    <tr>\n",
       "      <th>1024</th>\n",
       "      <td>54</td>\n",
       "      <td>1</td>\n",
       "      <td>0</td>\n",
       "      <td>120</td>\n",
       "      <td>188</td>\n",
       "      <td>0</td>\n",
       "      <td>1</td>\n",
       "      <td>113</td>\n",
       "      <td>0</td>\n",
       "      <td>1.4</td>\n",
       "      <td>1</td>\n",
       "      <td>1</td>\n",
       "      <td>3</td>\n",
       "      <td>0</td>\n",
       "    </tr>\n",
       "  </tbody>\n",
       "</table>\n",
       "<p>1025 rows × 14 columns</p>\n",
       "</div>"
      ],
      "text/plain": [
       "      age  sex  cp  trestbps  chol  fbs  restecg  thalach  exang  oldpeak  \\\n",
       "0      52    1   0       125   212    0        1      168      0      1.0   \n",
       "1      53    1   0       140   203    1        0      155      1      3.1   \n",
       "2      70    1   0       145   174    0        1      125      1      2.6   \n",
       "3      61    1   0       148   203    0        1      161      0      0.0   \n",
       "4      62    0   0       138   294    1        1      106      0      1.9   \n",
       "...   ...  ...  ..       ...   ...  ...      ...      ...    ...      ...   \n",
       "1020   59    1   1       140   221    0        1      164      1      0.0   \n",
       "1021   60    1   0       125   258    0        0      141      1      2.8   \n",
       "1022   47    1   0       110   275    0        0      118      1      1.0   \n",
       "1023   50    0   0       110   254    0        0      159      0      0.0   \n",
       "1024   54    1   0       120   188    0        1      113      0      1.4   \n",
       "\n",
       "      slope  ca  thal  target  \n",
       "0         2   2     3       0  \n",
       "1         0   0     3       0  \n",
       "2         0   0     3       0  \n",
       "3         2   1     3       0  \n",
       "4         1   3     2       0  \n",
       "...     ...  ..   ...     ...  \n",
       "1020      2   0     2       1  \n",
       "1021      1   1     3       0  \n",
       "1022      1   1     2       0  \n",
       "1023      2   0     2       1  \n",
       "1024      1   1     3       0  \n",
       "\n",
       "[1025 rows x 14 columns]"
      ]
     },
     "execution_count": 3,
     "metadata": {},
     "output_type": "execute_result"
    }
   ],
   "source": [
    "heart_df"
   ]
  },
  {
   "cell_type": "code",
   "execution_count": 4,
   "metadata": {},
   "outputs": [],
   "source": [
    "#select dependent and independent variables\n",
    "x = heart_df.drop('target', axis = 1)\n",
    "y = heart_df.target"
   ]
  },
  {
   "cell_type": "code",
   "execution_count": 5,
   "metadata": {},
   "outputs": [],
   "source": [
    "from sklearn.model_selection import train_test_split\n",
    "\n",
    "xtrain,xtest,ytrain,ytest = train_test_split(x, y, test_size=0.2, random_state=47)"
   ]
  },
  {
   "cell_type": "code",
   "execution_count": 6,
   "metadata": {},
   "outputs": [],
   "source": [
    "from sklearn.preprocessing import MinMaxScaler\n",
    "\n",
    "scaler = MinMaxScaler()\n",
    "new_xtrain = scaler.fit_transform(xtrain)\n",
    "new_xtest = scaler.transform(xtest)"
   ]
  },
  {
   "cell_type": "code",
   "execution_count": 7,
   "metadata": {},
   "outputs": [],
   "source": [
    "#DECISION TREE\n",
    "from sklearn.tree import DecisionTreeClassifier\n",
    "\n",
    "tree_model=DecisionTreeClassifier(random_state=42, max_depth=6)\n",
    "tree_model.fit(new_xtrain,ytrain)\n",
    "y_pred=tree_model.predict(new_xtest)"
   ]
  },
  {
   "cell_type": "code",
   "execution_count": 8,
   "metadata": {},
   "outputs": [],
   "source": [
    "#SVM\n",
    "from sklearn.svm import SVC\n",
    "\n",
    "svm=SVC()\n",
    "svm.fit(new_xtrain,ytrain)\n",
    "y_pred2=svm.predict(new_xtest)"
   ]
  },
  {
   "cell_type": "code",
   "execution_count": 9,
   "metadata": {},
   "outputs": [],
   "source": [
    "#RANDOM FOREST\n",
    "from sklearn.ensemble import RandomForestClassifier\n",
    "\n",
    "rf_model=RandomForestClassifier()\n",
    "rf_model.fit(new_xtrain,ytrain)\n",
    "y_pred3=rf_model.predict(new_xtest)"
   ]
  },
  {
   "cell_type": "code",
   "execution_count": 10,
   "metadata": {},
   "outputs": [
    {
     "name": "stdout",
     "output_type": "stream",
     "text": [
      "Decision Tree Classifier Prediction details: \n",
      "\n",
      "Accuracy Score  : 0.9317073170731708\n",
      "Precision Score : 0.8962264150943396\n",
      "Recall Score    : 0.9693877551020408\n",
      "  f1 Score      : 0.9313725490196079\n",
      "Confusion Matrix:\n",
      " [[96 11]\n",
      " [ 3 95]]\n",
      "Classification Matrix :\n",
      "               precision    recall  f1-score   support\n",
      "\n",
      "           0       0.97      0.90      0.93       107\n",
      "           1       0.90      0.97      0.93        98\n",
      "\n",
      "    accuracy                           0.93       205\n",
      "   macro avg       0.93      0.93      0.93       205\n",
      "weighted avg       0.93      0.93      0.93       205\n",
      "\n"
     ]
    },
    {
     "data": {
      "text/plain": [
       "<Axes: >"
      ]
     },
     "execution_count": 10,
     "metadata": {},
     "output_type": "execute_result"
    },
    {
     "data": {
      "image/png": "[encoded data removed]",
      "text/plain": [
       "<Figure size 300x200 with 2 Axes>"
      ]
     },
     "metadata": {},
     "output_type": "display_data"
    }
   ],
   "source": [
    "#Accuracy of Decision Tree Classifier\n",
    "from sklearn.metrics import accuracy_score, precision_score, recall_score, f1_score, confusion_matrix, classification_report\n",
    "import numpy as np\n",
    "\n",
    "print(\"Decision Tree Classifier Prediction details: \\n\")\n",
    "print(\"Accuracy Score  :\",accuracy_score(ytest,y_pred))\n",
    "print(\"Precision Score :\",precision_score(ytest,y_pred))\n",
    "print(\"Recall Score    :\",recall_score(ytest,y_pred))\n",
    "print(\"  f1 Score      :\",f1_score(ytest,y_pred))\n",
    "print(\"Confusion Matrix:\\n\",confusion_matrix(ytest,y_pred))\n",
    "print(\"Classification Matrix :\\n\",classification_report(ytest,y_pred))\n",
    "\n",
    "tree_revealer = confusion_matrix(ytest,y_pred)\n",
    "plt.figure(figsize = (3,2))\n",
    "sns.set(style = 'darkgrid')\n",
    "sns.heatmap(tree_revealer/np.sum(tree_revealer), annot=True, cmap='crest', linewidth=1)"
   ]
  },
  {
   "cell_type": "code",
   "execution_count": 11,
   "metadata": {},
   "outputs": [
    {
     "name": "stdout",
     "output_type": "stream",
     "text": [
      "SVC Prediction details \n",
      "\n",
      "Accuracy Score  : 0.8975609756097561\n",
      "Precision Score : 0.8598130841121495\n",
      "Recall Score    : 0.9387755102040817\n",
      "  f1 Score      : 0.8975609756097561\n",
      "Confusion Matrix:\n",
      " [[92 15]\n",
      " [ 6 92]]\n",
      "Classification Matrix :\n",
      "               precision    recall  f1-score   support\n",
      "\n",
      "           0       0.94      0.86      0.90       107\n",
      "           1       0.86      0.94      0.90        98\n",
      "\n",
      "    accuracy                           0.90       205\n",
      "   macro avg       0.90      0.90      0.90       205\n",
      "weighted avg       0.90      0.90      0.90       205\n",
      "\n"
     ]
    },
    {
     "data": {
      "text/plain": [
       "<Axes: >"
      ]
     },
     "execution_count": 11,
     "metadata": {},
     "output_type": "execute_result"
    },
    {
     "data": {
      "image/png": "[encoded data removed]",
      "text/plain": [
       "<Figure size 300x200 with 2 Axes>"
      ]
     },
     "metadata": {},
     "output_type": "display_data"
    }
   ],
   "source": [
    "#Accuracy of SVC\n",
    "\n",
    "print(\"SVC Prediction details \\n\")\n",
    "print(\"Accuracy Score  :\",accuracy_score(ytest,y_pred2))\n",
    "print(\"Precision Score :\",precision_score(ytest,y_pred2))\n",
    "print(\"Recall Score    :\",recall_score(ytest,y_pred2))\n",
    "print(\"  f1 Score      :\",f1_score(ytest,y_pred2))\n",
    "print(\"Confusion Matrix:\\n\",confusion_matrix(ytest,y_pred2))\n",
    "print(\"Classification Matrix :\\n\",classification_report(ytest,y_pred2))\n",
    "\n",
    "svc_revealer = confusion_matrix(ytest,y_pred2)\n",
    "plt.figure(figsize = (3,2))\n",
    "sns.set(style = 'darkgrid')\n",
    "sns.heatmap(tree_revealer/np.sum(tree_revealer), annot=True, cmap='crest', linewidth=1)"
   ]
  },
  {
   "cell_type": "code",
   "execution_count": 12,
   "metadata": {},
   "outputs": [
    {
     "name": "stdout",
     "output_type": "stream",
     "text": [
      "Random Forest Classifier Prediction details \n",
      "\n",
      "Accuracy Score  : 1.0\n",
      "Precision Score : 1.0\n",
      "Recall Score    : 1.0\n",
      "  f1 Score      : 1.0\n",
      "Confusion Matrix:\n",
      " [[107   0]\n",
      " [  0  98]]\n",
      "Classification Matrix :\n",
      "               precision    recall  f1-score   support\n",
      "\n",
      "           0       1.00      1.00      1.00       107\n",
      "           1       1.00      1.00      1.00        98\n",
      "\n",
      "    accuracy                           1.00       205\n",
      "   macro avg       1.00      1.00      1.00       205\n",
      "weighted avg       1.00      1.00      1.00       205\n",
      "\n"
     ]
    },
    {
     "data": {
      "text/plain": [
       "<Axes: >"
      ]
     },
     "execution_count": 12,
     "metadata": {},
     "output_type": "execute_result"
    },
    {
     "data": {
      "image/png": "[encoded data removed]",
      "text/plain": [
       "<Figure size 300x200 with 2 Axes>"
      ]
     },
     "metadata": {},
     "output_type": "display_data"
    }
   ],
   "source": [
    "#Accuracy of Random Forest Classifier\n",
    "\n",
    "print(\"Random Forest Classifier Prediction details \\n\")\n",
    "print(\"Accuracy Score  :\",accuracy_score(ytest,y_pred3))\n",
    "print(\"Precision Score :\",precision_score(ytest,y_pred3))\n",
    "print(\"Recall Score    :\",recall_score(ytest,y_pred3))\n",
    "print(\"  f1 Score      :\",f1_score(ytest,y_pred3))\n",
    "print(\"Confusion Matrix:\\n\",confusion_matrix(ytest,y_pred3))\n",
    "print(\"Classification Matrix :\\n\",classification_report(ytest,y_pred3))\n",
    "\n",
    "rf_revealer = confusion_matrix(ytest,y_pred3)\n",
    "plt.figure(figsize = (3,2))\n",
    "sns.set(style = 'darkgrid')\n",
    "sns.heatmap(rf_revealer/np.sum(rf_revealer), annot=True, cmap='crest', linewidth=1)"
   ]
  },
  {
   "cell_type": "code",
   "execution_count": 13,
   "metadata": {},
   "outputs": [],
   "source": [
    "result=pd.DataFrame({'Model':['Decision Tree Classifier','SVC','Random Forest Classifier'],\n",
    "                     'Accuracy':[recall_score(y_pred,ytest)*100,recall_score(y_pred2,ytest)*100,recall_score(ytest,y_pred3)*100]})"
   ]
  },
  {
   "cell_type": "code",
   "execution_count": 14,
   "metadata": {},
   "outputs": [
    {
     "data": {
      "text/html": [
       "<div>\n",
       "<style scoped>\n",
       "    .dataframe tbody tr th:only-of-type {\n",
       "        vertical-align: middle;\n",
       "    }\n",
       "\n",
       "    .dataframe tbody tr th {\n",
       "        vertical-align: top;\n",
       "    }\n",
       "\n",
       "    .dataframe thead th {\n",
       "        text-align: right;\n",
       "    }\n",
       "</style>\n",
       "<table border=\"1\" class=\"dataframe\">\n",
       "  <thead>\n",
       "    <tr style=\"text-align: right;\">\n",
       "      <th></th>\n",
       "      <th>Model</th>\n",
       "      <th>Accuracy</th>\n",
       "    </tr>\n",
       "  </thead>\n",
       "  <tbody>\n",
       "    <tr>\n",
       "      <th>0</th>\n",
       "      <td>Decision Tree Classifier</td>\n",
       "      <td>89.622642</td>\n",
       "    </tr>\n",
       "    <tr>\n",
       "      <th>1</th>\n",
       "      <td>SVC</td>\n",
       "      <td>85.981308</td>\n",
       "    </tr>\n",
       "    <tr>\n",
       "      <th>2</th>\n",
       "      <td>Random Forest Classifier</td>\n",
       "      <td>100.000000</td>\n",
       "    </tr>\n",
       "  </tbody>\n",
       "</table>\n",
       "</div>"
      ],
      "text/plain": [
       "                      Model    Accuracy\n",
       "0  Decision Tree Classifier   89.622642\n",
       "1                       SVC   85.981308\n",
       "2  Random Forest Classifier  100.000000"
      ]
     },
     "execution_count": 14,
     "metadata": {},
     "output_type": "execute_result"
    }
   ],
   "source": [
    "result"
   ]
  },
  {
   "cell_type": "markdown",
   "metadata": {},
   "source": [
    "<br/>\n",
    "<br/>\n",
    "\n",
    "\n",
    "<br/>.\n",
    "<br/>\n",
    "<h3><em>Stroke Data</em></h3>\n",
    "<hr/>"
   ]
  },
  {
   "cell_type": "code",
   "execution_count": 15,
   "metadata": {},
   "outputs": [],
   "source": [
    "stroke_feature = pd.read_csv('stroke_feature.csv')"
   ]
  },
  {
   "cell_type": "code",
   "execution_count": 16,
   "metadata": {},
   "outputs": [],
   "source": [
    "stroke_feature.drop('Unnamed: 0', axis = 1, inplace = True)"
   ]
  },
  {
   "cell_type": "code",
   "execution_count": 17,
   "metadata": {},
   "outputs": [
    {
     "data": {
      "text/html": [
       "<div>\n",
       "<style scoped>\n",
       "    .dataframe tbody tr th:only-of-type {\n",
       "        vertical-align: middle;\n",
       "    }\n",
       "\n",
       "    .dataframe tbody tr th {\n",
       "        vertical-align: top;\n",
       "    }\n",
       "\n",
       "    .dataframe thead th {\n",
       "        text-align: right;\n",
       "    }\n",
       "</style>\n",
       "<table border=\"1\" class=\"dataframe\">\n",
       "  <thead>\n",
       "    <tr style=\"text-align: right;\">\n",
       "      <th></th>\n",
       "      <th>age</th>\n",
       "      <th>hypertension</th>\n",
       "      <th>heart_disease</th>\n",
       "      <th>bmi</th>\n",
       "      <th>stroke</th>\n",
       "      <th>avg_glucose_level</th>\n",
       "    </tr>\n",
       "  </thead>\n",
       "  <tbody>\n",
       "    <tr>\n",
       "      <th>0</th>\n",
       "      <td>-0.401037</td>\n",
       "      <td>0</td>\n",
       "      <td>0</td>\n",
       "      <td>-1.212872</td>\n",
       "      <td>0</td>\n",
       "      <td>0.163345</td>\n",
       "    </tr>\n",
       "    <tr>\n",
       "      <th>1</th>\n",
       "      <td>0.483574</td>\n",
       "      <td>0</td>\n",
       "      <td>0</td>\n",
       "      <td>0.334089</td>\n",
       "      <td>0</td>\n",
       "      <td>-0.538474</td>\n",
       "    </tr>\n",
       "    <tr>\n",
       "      <th>2</th>\n",
       "      <td>1.058571</td>\n",
       "      <td>0</td>\n",
       "      <td>0</td>\n",
       "      <td>0.385228</td>\n",
       "      <td>0</td>\n",
       "      <td>-0.826336</td>\n",
       "    </tr>\n",
       "    <tr>\n",
       "      <th>3</th>\n",
       "      <td>0.395113</td>\n",
       "      <td>0</td>\n",
       "      <td>0</td>\n",
       "      <td>1.152316</td>\n",
       "      <td>0</td>\n",
       "      <td>-0.959834</td>\n",
       "    </tr>\n",
       "    <tr>\n",
       "      <th>4</th>\n",
       "      <td>-1.816414</td>\n",
       "      <td>0</td>\n",
       "      <td>0</td>\n",
       "      <td>-1.442998</td>\n",
       "      <td>0</td>\n",
       "      <td>-0.056534</td>\n",
       "    </tr>\n",
       "    <tr>\n",
       "      <th>...</th>\n",
       "      <td>...</td>\n",
       "      <td>...</td>\n",
       "      <td>...</td>\n",
       "      <td>...</td>\n",
       "      <td>...</td>\n",
       "      <td>...</td>\n",
       "    </tr>\n",
       "    <tr>\n",
       "      <th>2160</th>\n",
       "      <td>0.616265</td>\n",
       "      <td>0</td>\n",
       "      <td>0</td>\n",
       "      <td>0.998899</td>\n",
       "      <td>1</td>\n",
       "      <td>-0.459497</td>\n",
       "    </tr>\n",
       "    <tr>\n",
       "      <th>2161</th>\n",
       "      <td>-1.285648</td>\n",
       "      <td>0</td>\n",
       "      <td>0</td>\n",
       "      <td>0.257380</td>\n",
       "      <td>1</td>\n",
       "      <td>-1.065960</td>\n",
       "    </tr>\n",
       "    <tr>\n",
       "      <th>2162</th>\n",
       "      <td>1.412415</td>\n",
       "      <td>0</td>\n",
       "      <td>0</td>\n",
       "      <td>0.052824</td>\n",
       "      <td>1</td>\n",
       "      <td>-0.597706</td>\n",
       "    </tr>\n",
       "    <tr>\n",
       "      <th>2163</th>\n",
       "      <td>1.235493</td>\n",
       "      <td>1</td>\n",
       "      <td>0</td>\n",
       "      <td>-0.100594</td>\n",
       "      <td>1</td>\n",
       "      <td>-0.395777</td>\n",
       "    </tr>\n",
       "    <tr>\n",
       "      <th>2164</th>\n",
       "      <td>1.545107</td>\n",
       "      <td>0</td>\n",
       "      <td>0</td>\n",
       "      <td>-1.187302</td>\n",
       "      <td>1</td>\n",
       "      <td>-0.597482</td>\n",
       "    </tr>\n",
       "  </tbody>\n",
       "</table>\n",
       "<p>2165 rows × 6 columns</p>\n",
       "</div>"
      ],
      "text/plain": [
       "           age  hypertension  heart_disease       bmi  stroke  \\\n",
       "0    -0.401037             0              0 -1.212872       0   \n",
       "1     0.483574             0              0  0.334089       0   \n",
       "2     1.058571             0              0  0.385228       0   \n",
       "3     0.395113             0              0  1.152316       0   \n",
       "4    -1.816414             0              0 -1.442998       0   \n",
       "...        ...           ...            ...       ...     ...   \n",
       "2160  0.616265             0              0  0.998899       1   \n",
       "2161 -1.285648             0              0  0.257380       1   \n",
       "2162  1.412415             0              0  0.052824       1   \n",
       "2163  1.235493             1              0 -0.100594       1   \n",
       "2164  1.545107             0              0 -1.187302       1   \n",
       "\n",
       "      avg_glucose_level  \n",
       "0              0.163345  \n",
       "1             -0.538474  \n",
       "2             -0.826336  \n",
       "3             -0.959834  \n",
       "4             -0.056534  \n",
       "...                 ...  \n",
       "2160          -0.459497  \n",
       "2161          -1.065960  \n",
       "2162          -0.597706  \n",
       "2163          -0.395777  \n",
       "2164          -0.597482  \n",
       "\n",
       "[2165 rows x 6 columns]"
      ]
     },
     "execution_count": 17,
     "metadata": {},
     "output_type": "execute_result"
    }
   ],
   "source": [
    "#....................Under Sampling........................\n",
    "tempdf = stroke_feature.loc[stroke_feature.stroke == 0]\n",
    "tempdf = stroke_feature.sample(2000)\n",
    "feature = pd.concat([tempdf, stroke_feature.loc[stroke_feature.stroke == 1]], axis=0)\n",
    "feature.reset_index(drop=True, inplace = True)\n",
    "feature"
   ]
  },
  {
   "cell_type": "code",
   "execution_count": 18,
   "metadata": {},
   "outputs": [],
   "source": [
    "#split into train and test\n",
    "\n",
    "from sklearn.model_selection import train_test_split\n",
    "stroke_x = feature.drop('stroke',axis = 1)\n",
    "stroke_y = feature.stroke\n",
    "\n",
    "stroke_xtrain,stroke_xtest,stroke_ytrain,stroke_ytest = train_test_split(stroke_x, stroke_y, test_size = 0.20, random_state = 42,stratify=stroke_y)"
   ]
  },
  {
   "cell_type": "code",
   "execution_count": 19,
   "metadata": {},
   "outputs": [
    {
     "data": {
      "text/plain": [
       "<Axes: xlabel='stroke', ylabel='count'>"
      ]
     },
     "execution_count": 19,
     "metadata": {},
     "output_type": "execute_result"
    },
    {
     "data": {
      "image/png": "[encoded data removed]",
      "text/plain": [
       "<Figure size 640x480 with 1 Axes>"
      ]
     },
     "metadata": {},
     "output_type": "display_data"
    }
   ],
   "source": [
    "sns.countplot(x = stroke_ytrain)"
   ]
  },
  {
   "cell_type": "code",
   "execution_count": 20,
   "metadata": {},
   "outputs": [],
   "source": [
    "# oversampling the train dataset using ADASYN\n",
    "from imblearn.over_sampling import ADASYN\n",
    "\n",
    "ada = ADASYN(random_state=1)\n",
    "xtrain_ada, ytrain_ada = ada.fit_resample(stroke_xtrain,stroke_ytrain)"
   ]
  },
  {
   "cell_type": "code",
   "execution_count": 21,
   "metadata": {},
   "outputs": [
    {
     "data": {
      "text/plain": [
       "<Axes: xlabel='stroke', ylabel='count'>"
      ]
     },
     "execution_count": 21,
     "metadata": {},
     "output_type": "execute_result"
    },
    {
     "data": {
      "image/png": "[encoded data removed]",
      "text/plain": [
       "<Figure size 640x480 with 1 Axes>"
      ]
     },
     "metadata": {},
     "output_type": "display_data"
    }
   ],
   "source": [
    "sns.countplot(x = ytrain_ada)"
   ]
  },
  {
   "cell_type": "code",
   "execution_count": 22,
   "metadata": {},
   "outputs": [],
   "source": [
    "#DECISION TREE\n",
    "\n",
    "tree_model=DecisionTreeClassifier(random_state=1)\n",
    "tree_model.fit(xtrain_ada, ytrain_ada)\n",
    "stroke_ytree_pred=tree_model.predict(xtrain_ada)"
   ]
  },
  {
   "cell_type": "code",
   "execution_count": 23,
   "metadata": {},
   "outputs": [],
   "source": [
    "#SVM\n",
    "\n",
    "svm=SVC()\n",
    "svm.fit(xtrain_ada, ytrain_ada)\n",
    "stroke_ysvm_pred=svm.predict(xtrain_ada)"
   ]
  },
  {
   "cell_type": "code",
   "execution_count": 24,
   "metadata": {},
   "outputs": [],
   "source": [
    "#RANDOM FOREST\n",
    "rf_mod=RandomForestClassifier()\n",
    "rf_mod.fit(xtrain_ada, ytrain_ada)\n",
    "stroke_yrf_pred=rf_mod.predict(xtrain_ada)"
   ]
  },
  {
   "cell_type": "code",
   "execution_count": 25,
   "metadata": {},
   "outputs": [
    {
     "name": "stdout",
     "output_type": "stream",
     "text": [
      "Decision Tree Classifier Prediction details: \n",
      "\n",
      "Accuracy Score  : 1.0\n",
      "Precision Score : 1.0\n",
      "Recall Score    : 1.0\n",
      "f1 Score      : 1.0\n",
      "Confusion Matrix:\n",
      " [[1538    0]\n",
      " [   0 1482]]\n",
      "Classification Matrix :\n",
      "               precision    recall  f1-score   support\n",
      "\n",
      "           0       1.00      1.00      1.00      1538\n",
      "           1       1.00      1.00      1.00      1482\n",
      "\n",
      "    accuracy                           1.00      3020\n",
      "   macro avg       1.00      1.00      1.00      3020\n",
      "weighted avg       1.00      1.00      1.00      3020\n",
      "\n"
     ]
    },
    {
     "data": {
      "text/plain": [
       "<Axes: >"
      ]
     },
     "execution_count": 25,
     "metadata": {},
     "output_type": "execute_result"
    },
    {
     "data": {
      "image/png": "[encoded data removed]",
      "text/plain": [
       "<Figure size 300x200 with 2 Axes>"
      ]
     },
     "metadata": {},
     "output_type": "display_data"
    }
   ],
   "source": [
    "#Accuracy of Decision Tree Classifier\n",
    "\n",
    "print(\"Decision Tree Classifier Prediction details: \\n\")\n",
    "print(\"Accuracy Score  :\",accuracy_score(ytrain_ada,stroke_ytree_pred))\n",
    "print(\"Precision Score :\",precision_score(ytrain_ada,stroke_ytree_pred))\n",
    "print(\"Recall Score    :\",recall_score(ytrain_ada,stroke_ytree_pred))\n",
    "print(\"f1 Score      :\",f1_score(ytrain_ada,stroke_ytree_pred))\n",
    "print(\"Confusion Matrix:\\n\",confusion_matrix(ytrain_ada,stroke_ytree_pred))\n",
    "print(\"Classification Matrix :\\n\",classification_report(ytrain_ada,stroke_ytree_pred))\n",
    "\n",
    "tree_revealer = confusion_matrix(ytrain_ada,stroke_ytree_pred)\n",
    "plt.figure(figsize = (3,2))\n",
    "sns.set(style = 'darkgrid')\n",
    "sns.heatmap(tree_revealer/np.sum(tree_revealer), annot=True, cmap='crest', linewidth=1)"
   ]
  },
  {
   "cell_type": "code",
   "execution_count": 26,
   "metadata": {},
   "outputs": [
    {
     "name": "stdout",
     "output_type": "stream",
     "text": [
      "SVC Prediction details \n",
      "\n",
      "Accuracy Score  : 0.785430463576159\n",
      "Precision Score : 0.7281181619256017\n",
      "Recall Score    : 0.898110661268556\n",
      "  f1 Score      : 0.8042296072507553\n",
      "Confusion Matrix:\n",
      " [[1041  497]\n",
      " [ 151 1331]]\n",
      "Classification Matrix :\n",
      "               precision    recall  f1-score   support\n",
      "\n",
      "           0       0.87      0.68      0.76      1538\n",
      "           1       0.73      0.90      0.80      1482\n",
      "\n",
      "    accuracy                           0.79      3020\n",
      "   macro avg       0.80      0.79      0.78      3020\n",
      "weighted avg       0.80      0.79      0.78      3020\n",
      "\n"
     ]
    },
    {
     "data": {
      "text/plain": [
       "<Axes: >"
      ]
     },
     "execution_count": 26,
     "metadata": {},
     "output_type": "execute_result"
    },
    {
     "data": {
      "image/png": "[encoded data removed]",
      "text/plain": [
       "<Figure size 300x200 with 2 Axes>"
      ]
     },
     "metadata": {},
     "output_type": "display_data"
    }
   ],
   "source": [
    "#Accuracy of SVC\n",
    "\n",
    "print(\"SVC Prediction details \\n\")\n",
    "print(\"Accuracy Score  :\",accuracy_score(ytrain_ada,stroke_ysvm_pred))\n",
    "print(\"Precision Score :\",precision_score(ytrain_ada,stroke_ysvm_pred))\n",
    "print(\"Recall Score    :\",recall_score(ytrain_ada,stroke_ysvm_pred))\n",
    "print(\"  f1 Score      :\",f1_score(ytrain_ada,stroke_ysvm_pred))\n",
    "print(\"Confusion Matrix:\\n\",confusion_matrix(ytrain_ada,stroke_ysvm_pred))\n",
    "print(\"Classification Matrix :\\n\",classification_report(ytrain_ada,stroke_ysvm_pred))\n",
    "\n",
    "svc_revealer = confusion_matrix(ytrain_ada,stroke_ysvm_pred)\n",
    "plt.figure(figsize = (3,2))\n",
    "sns.set(style = 'darkgrid')\n",
    "sns.heatmap(tree_revealer/np.sum(tree_revealer), annot=True, cmap='crest', linewidth=1)"
   ]
  },
  {
   "cell_type": "code",
   "execution_count": 27,
   "metadata": {},
   "outputs": [
    {
     "name": "stdout",
     "output_type": "stream",
     "text": [
      "Random Forest Classifier Prediction details \n",
      "\n",
      "Accuracy Score  : 1.0\n",
      "Precision Score : 1.0\n",
      "Recall Score    : 1.0\n",
      "  f1 Score      : 1.0\n",
      "Confusion Matrix:\n",
      " [[1538    0]\n",
      " [   0 1482]]\n",
      "Classification Matrix :\n",
      "               precision    recall  f1-score   support\n",
      "\n",
      "           0       1.00      1.00      1.00      1538\n",
      "           1       1.00      1.00      1.00      1482\n",
      "\n",
      "    accuracy                           1.00      3020\n",
      "   macro avg       1.00      1.00      1.00      3020\n",
      "weighted avg       1.00      1.00      1.00      3020\n",
      "\n"
     ]
    },
    {
     "data": {
      "text/plain": [
       "<Axes: >"
      ]
     },
     "execution_count": 27,
     "metadata": {},
     "output_type": "execute_result"
    },
    {
     "data": {
      "image/png": "[encoded data removed]",
      "text/plain": [
       "<Figure size 300x200 with 2 Axes>"
      ]
     },
     "metadata": {},
     "output_type": "display_data"
    }
   ],
   "source": [
    "#Accuracy of Random Forest Classifier\n",
    "\n",
    "print(\"Random Forest Classifier Prediction details \\n\")\n",
    "print(\"Accuracy Score  :\",accuracy_score(ytrain_ada,stroke_yrf_pred))\n",
    "print(\"Precision Score :\",precision_score(ytrain_ada,stroke_yrf_pred))\n",
    "print(\"Recall Score    :\",recall_score(ytrain_ada,stroke_yrf_pred))\n",
    "print(\"  f1 Score      :\",f1_score(ytrain_ada,stroke_yrf_pred))\n",
    "print(\"Confusion Matrix:\\n\",confusion_matrix(ytrain_ada,stroke_yrf_pred))\n",
    "print(\"Classification Matrix :\\n\",classification_report(ytrain_ada,stroke_yrf_pred))\n",
    "\n",
    "rf_revealer = confusion_matrix(ytrain_ada,stroke_yrf_pred)\n",
    "plt.figure(figsize = (3,2))\n",
    "sns.set(style = 'darkgrid')\n",
    "sns.heatmap(rf_revealer/np.sum(rf_revealer), annot=True, cmap='crest', linewidth=1)"
   ]
  },
  {
   "cell_type": "code",
   "execution_count": 28,
   "metadata": {},
   "outputs": [],
   "source": [
    "stroke_result=pd.DataFrame({'Model':['Decision Tree Classifier','SVC','Random Forest Classifier'],\n",
    "                     'Accuracy':[recall_score(stroke_ytree_pred,ytrain_ada)*100,recall_score(stroke_ysvm_pred,ytrain_ada)*100,recall_score(stroke_yrf_pred,ytrain_ada)*100]})"
   ]
  },
  {
   "cell_type": "code",
   "execution_count": 29,
   "metadata": {},
   "outputs": [
    {
     "data": {
      "text/html": [
       "<div>\n",
       "<style scoped>\n",
       "    .dataframe tbody tr th:only-of-type {\n",
       "        vertical-align: middle;\n",
       "    }\n",
       "\n",
       "    .dataframe tbody tr th {\n",
       "        vertical-align: top;\n",
       "    }\n",
       "\n",
       "    .dataframe thead th {\n",
       "        text-align: right;\n",
       "    }\n",
       "</style>\n",
       "<table border=\"1\" class=\"dataframe\">\n",
       "  <thead>\n",
       "    <tr style=\"text-align: right;\">\n",
       "      <th></th>\n",
       "      <th>Model</th>\n",
       "      <th>Accuracy</th>\n",
       "    </tr>\n",
       "  </thead>\n",
       "  <tbody>\n",
       "    <tr>\n",
       "      <th>0</th>\n",
       "      <td>Decision Tree Classifier</td>\n",
       "      <td>100.000000</td>\n",
       "    </tr>\n",
       "    <tr>\n",
       "      <th>1</th>\n",
       "      <td>SVC</td>\n",
       "      <td>72.811816</td>\n",
       "    </tr>\n",
       "    <tr>\n",
       "      <th>2</th>\n",
       "      <td>Random Forest Classifier</td>\n",
       "      <td>100.000000</td>\n",
       "    </tr>\n",
       "  </tbody>\n",
       "</table>\n",
       "</div>"
      ],
      "text/plain": [
       "                      Model    Accuracy\n",
       "0  Decision Tree Classifier  100.000000\n",
       "1                       SVC   72.811816\n",
       "2  Random Forest Classifier  100.000000"
      ]
     },
     "execution_count": 29,
     "metadata": {},
     "output_type": "execute_result"
    }
   ],
   "source": [
    "stroke_result"
   ]
  },
  {
   "cell_type": "markdown",
   "metadata": {},
   "source": [
    "<br/>\n",
    "<br/>\n",
    "<br/>\n",
    "<br/>\n",
    "<br/>\n",
    "<h3><em>Lungs Data</em></h3>"
   ]
  },
  {
   "cell_type": "code",
   "execution_count": 31,
   "metadata": {},
   "outputs": [],
   "source": [
    "lung_feature = pd.read_csv('lung_feature.csv')"
   ]
  },
  {
   "cell_type": "code",
   "execution_count": 32,
   "metadata": {},
   "outputs": [],
   "source": [
    "lung_feature.drop('Unnamed: 0', axis=1, inplace=True)"
   ]
  },
  {
   "cell_type": "code",
   "execution_count": 33,
   "metadata": {},
   "outputs": [],
   "source": [
    "lung_x = lung_feature.drop('Level', axis = 1)\n",
    "lung_y = lung_feature.Level\n",
    "\n",
    "lung_xtrain,lung_xtest,lung_ytrain,lung_ytest = train_test_split(lung_x, lung_y, test_size=0.20, random_state=99)"
   ]
  },
  {
   "cell_type": "code",
   "execution_count": 34,
   "metadata": {},
   "outputs": [],
   "source": [
    "#DECISION TREE\n",
    "\n",
    "lung_tree_model=DecisionTreeClassifier(random_state=42, max_depth=6)\n",
    "lung_tree_model.fit(lung_xtrain,lung_ytrain)\n",
    "lung_ytree_pred=lung_tree_model.predict(lung_xtest)"
   ]
  },
  {
   "cell_type": "code",
   "execution_count": 35,
   "metadata": {},
   "outputs": [],
   "source": [
    "#SVM\n",
    "\n",
    "lung_svm=SVC()\n",
    "lung_svm.fit(lung_xtrain,lung_ytrain)\n",
    "lung_ysvm_pred=lung_svm.predict(lung_xtest)"
   ]
  },
  {
   "cell_type": "code",
   "execution_count": 36,
   "metadata": {},
   "outputs": [],
   "source": [
    "#RANDOM FOREST\n",
    "lung_rf_model=RandomForestClassifier()\n",
    "lung_rf_model.fit(lung_xtrain,lung_ytrain)\n",
    "lung_yrf_pred=lung_rf_model.predict(lung_xtest)"
   ]
  },
  {
   "cell_type": "code",
   "execution_count": 37,
   "metadata": {},
   "outputs": [
    {
     "name": "stdout",
     "output_type": "stream",
     "text": [
      "Decision Tree Classifier Prediction details: \n",
      "\n",
      "Precision Score (Macro): 1.0\n",
      "Recall Score (Macro): 1.0\n",
      "F1 Score (Macro): 1.0\n",
      "Confusion Matrix:\n",
      " [[62  0  0]\n",
      " [ 0 81  0]\n",
      " [ 0  0 57]]\n",
      "Classification Matrix :\n",
      "               precision    recall  f1-score   support\n",
      "\n",
      "           0       1.00      1.00      1.00        62\n",
      "           1       1.00      1.00      1.00        81\n",
      "           2       1.00      1.00      1.00        57\n",
      "\n",
      "    accuracy                           1.00       200\n",
      "   macro avg       1.00      1.00      1.00       200\n",
      "weighted avg       1.00      1.00      1.00       200\n",
      "\n"
     ]
    },
    {
     "data": {
      "text/plain": [
       "<Axes: >"
      ]
     },
     "execution_count": 37,
     "metadata": {},
     "output_type": "execute_result"
    },
    {
     "data": {
      "image/png": "[encoded data removed]",
      "text/plain": [
       "<Figure size 300x200 with 2 Axes>"
      ]
     },
     "metadata": {},
     "output_type": "display_data"
    }
   ],
   "source": [
    "#Accuracy of Decision Tree Classifier\n",
    "\n",
    "print(\"Decision Tree Classifier Prediction details: \\n\")\n",
    "precision = precision_score(lung_ytest, lung_ytree_pred, average='macro')\n",
    "recall = recall_score(lung_ytest, lung_ytree_pred, average='macro')\n",
    "f1 = f1_score(lung_ytest, lung_ytree_pred, average='macro')\n",
    "\n",
    "# Print the results\n",
    "print(\"Precision Score (Macro):\", precision)\n",
    "print(\"Recall Score (Macro):\", recall)\n",
    "print(\"F1 Score (Macro):\", f1)\n",
    "print(\"Confusion Matrix:\\n\",confusion_matrix(lung_ytest,lung_ytree_pred))\n",
    "print(\"Classification Matrix :\\n\",classification_report(lung_ytest,lung_ytree_pred))\n",
    "\n",
    "\n",
    "lung_tree_revealer = confusion_matrix(lung_ytest,lung_ytree_pred)\n",
    "plt.figure(figsize = (3,2))\n",
    "sns.set(style = 'darkgrid')\n",
    "sns.heatmap(lung_tree_revealer/np.sum(lung_tree_revealer), annot=True, cmap='crest', linewidth=1)"
   ]
  },
  {
   "cell_type": "code",
   "execution_count": 38,
   "metadata": {},
   "outputs": [
    {
     "name": "stdout",
     "output_type": "stream",
     "text": [
      "SVC Prediction details \n",
      "\n",
      "Precision Score (Macro) for SVC: 0.9843137254901961\n",
      "Recall Score (Macro) for SVC: 0.978494623655914\n",
      "F1 Score (Macro) for SVC: 0.9808567603748326\n",
      "Confusion Matrix:\n",
      " [[58  4  0]\n",
      " [ 0 81  0]\n",
      " [ 0  0 57]]\n",
      "Classification Matrix :\n",
      "               precision    recall  f1-score   support\n",
      "\n",
      "           0       1.00      0.94      0.97        62\n",
      "           1       0.95      1.00      0.98        81\n",
      "           2       1.00      1.00      1.00        57\n",
      "\n",
      "    accuracy                           0.98       200\n",
      "   macro avg       0.98      0.98      0.98       200\n",
      "weighted avg       0.98      0.98      0.98       200\n",
      "\n"
     ]
    },
    {
     "data": {
      "text/plain": [
       "<Axes: >"
      ]
     },
     "execution_count": 38,
     "metadata": {},
     "output_type": "execute_result"
    },
    {
     "data": {
      "image/png": "[encoded data removed]",
      "text/plain": [
       "<Figure size 300x200 with 2 Axes>"
      ]
     },
     "metadata": {},
     "output_type": "display_data"
    }
   ],
   "source": [
    "#Accuracy of SVC\n",
    "\n",
    "print(\"SVC Prediction details \\n\")\n",
    "\n",
    "# Calculate precision, recall, and F1-score for the SVC model\n",
    "precision = precision_score(lung_ytest, lung_ysvm_pred, average='macro')\n",
    "recall = recall_score(lung_ytest, lung_ysvm_pred, average='macro')\n",
    "f1s = f1_score(lung_ytest, lung_ysvm_pred, average='macro')\n",
    "\n",
    "# Print the results\n",
    "print(\"Precision Score (Macro) for SVC:\", precision)\n",
    "print(\"Recall Score (Macro) for SVC:\", recall)\n",
    "print(\"F1 Score (Macro) for SVC:\", f1s)\n",
    "\n",
    "\n",
    "\n",
    "\n",
    "print(\"Confusion Matrix:\\n\",confusion_matrix(lung_ytest,lung_ysvm_pred))\n",
    "print(\"Classification Matrix :\\n\",classification_report(lung_ytest,lung_ysvm_pred))\n",
    "\n",
    "\n",
    "lung_svc_revealer = confusion_matrix(lung_ytest,lung_ysvm_pred)\n",
    "plt.figure(figsize = (3,2))\n",
    "sns.set(style = 'darkgrid')\n",
    "sns.heatmap(lung_svc_revealer/np.sum(lung_svc_revealer), annot=True, cmap='crest', linewidth=1)"
   ]
  },
  {
   "cell_type": "code",
   "execution_count": 39,
   "metadata": {},
   "outputs": [
    {
     "name": "stdout",
     "output_type": "stream",
     "text": [
      "Random Forest Classifier Prediction details \n",
      "\n",
      "Precision Score (Macro) for Random Forest Classifier: 1.0\n",
      "Recall Score (Macro) for Random Forest Classifier: 1.0\n",
      "F1 Score (Macro) for Random Forest Classifier: 1.0\n",
      "Confusion Matrix:\n",
      " [[62  0  0]\n",
      " [ 0 81  0]\n",
      " [ 0  0 57]]\n",
      "Classification Matrix :\n",
      "               precision    recall  f1-score   support\n",
      "\n",
      "           0       1.00      1.00      1.00        62\n",
      "           1       1.00      1.00      1.00        81\n",
      "           2       1.00      1.00      1.00        57\n",
      "\n",
      "    accuracy                           1.00       200\n",
      "   macro avg       1.00      1.00      1.00       200\n",
      "weighted avg       1.00      1.00      1.00       200\n",
      "\n"
     ]
    },
    {
     "data": {
      "text/plain": [
       "<Axes: >"
      ]
     },
     "execution_count": 39,
     "metadata": {},
     "output_type": "execute_result"
    },
    {
     "data": {
      "image/png": "[encoded data removed]",
      "text/plain": [
       "<Figure size 300x200 with 2 Axes>"
      ]
     },
     "metadata": {},
     "output_type": "display_data"
    }
   ],
   "source": [
    "#Accuracy of Random Forest Classifier\n",
    "\n",
    "print(\"Random Forest Classifier Prediction details \\n\")\n",
    "precisions = precision_score(lung_ytest, lung_yrf_pred, average='macro')\n",
    "recalls = recall_score(lung_ytest, lung_yrf_pred, average='macro')\n",
    "f1ss = f1_score(lung_ytest, lung_yrf_pred, average='macro')\n",
    "\n",
    "# Print the results\n",
    "print(\"Precision Score (Macro) for Random Forest Classifier:\", precisions)\n",
    "print(\"Recall Score (Macro) for Random Forest Classifier:\", recalls)\n",
    "print(\"F1 Score (Macro) for Random Forest Classifier:\", f1ss)\n",
    "\n",
    "\n",
    "\n",
    "print(\"Confusion Matrix:\\n\",confusion_matrix(lung_ytest,lung_yrf_pred))\n",
    "print(\"Classification Matrix :\\n\",classification_report(lung_ytest,lung_yrf_pred))\n",
    "\n",
    "\n",
    "lung_rf_revealer = confusion_matrix(lung_ytest,lung_yrf_pred)\n",
    "plt.figure(figsize = (3,2))\n",
    "sns.set(style = 'darkgrid')\n",
    "sns.heatmap(lung_rf_revealer/np.sum(lung_rf_revealer), annot=True, cmap='crest', linewidth=1)"
   ]
  },
  {
   "cell_type": "code",
   "execution_count": 40,
   "metadata": {},
   "outputs": [
    {
     "data": {
      "text/html": [
       "<div>\n",
       "<style scoped>\n",
       "    .dataframe tbody tr th:only-of-type {\n",
       "        vertical-align: middle;\n",
       "    }\n",
       "\n",
       "    .dataframe tbody tr th {\n",
       "        vertical-align: top;\n",
       "    }\n",
       "\n",
       "    .dataframe thead th {\n",
       "        text-align: right;\n",
       "    }\n",
       "</style>\n",
       "<table border=\"1\" class=\"dataframe\">\n",
       "  <thead>\n",
       "    <tr style=\"text-align: right;\">\n",
       "      <th></th>\n",
       "      <th>Model</th>\n",
       "      <th>Recall (Percentage)</th>\n",
       "    </tr>\n",
       "  </thead>\n",
       "  <tbody>\n",
       "    <tr>\n",
       "      <th>0</th>\n",
       "      <td>Decision Tree Classifier</td>\n",
       "      <td>100.000000</td>\n",
       "    </tr>\n",
       "    <tr>\n",
       "      <th>1</th>\n",
       "      <td>SVC</td>\n",
       "      <td>97.849462</td>\n",
       "    </tr>\n",
       "    <tr>\n",
       "      <th>2</th>\n",
       "      <td>Random Forest Classifier</td>\n",
       "      <td>100.000000</td>\n",
       "    </tr>\n",
       "  </tbody>\n",
       "</table>\n",
       "</div>"
      ],
      "text/plain": [
       "                      Model  Recall (Percentage)\n",
       "0  Decision Tree Classifier           100.000000\n",
       "1                       SVC            97.849462\n",
       "2  Random Forest Classifier           100.000000"
      ]
     },
     "metadata": {},
     "output_type": "display_data"
    }
   ],
   "source": [
    "# Calculate recall scores for each model using 'macro' average\n",
    "recall_tree = recall_score(lung_ytest, lung_ytree_pred, average='macro') * 100\n",
    "recall_svc = recall_score(lung_ytest, lung_ysvm_pred, average='macro') * 100\n",
    "recall_rf = recall_score(lung_ytest, lung_yrf_pred, average='macro') * 100\n",
    "\n",
    "# Create a DataFrame to store the results\n",
    "lung_result = pd.DataFrame({\n",
    "    'Model': ['Decision Tree Classifier', 'SVC', 'Random Forest Classifier'],\n",
    "    'Recall (Percentage)': [recall_tree, recall_svc, recall_rf]\n",
    "})\n",
    "\n",
    "# Print or display the DataFrame\n",
    "display(lung_result)\n"
   ]
  },
  {
   "cell_type": "code",
   "execution_count": 41,
   "metadata": {},
   "outputs": [
    {
     "data": {
      "text/plain": [
       "['lung_model.pkl']"
      ]
     },
     "execution_count": 41,
     "metadata": {},
     "output_type": "execute_result"
    }
   ],
   "source": [
    "import joblib\n",
    "\n",
    "\n",
    "#save heart model\n",
    "joblib.dump(rf_model, 'heart_model.pkl')\n",
    "\n",
    "\n",
    "#save stroke model\n",
    "joblib.dump(rf_mod, 'stroke_model.pkl')\n",
    "\n",
    "\n",
    "#save lungs model\n",
    "joblib.dump(lung_rf_model,'lung_model.pkl')"
   ]
  }
 ],
 "metadata": {
  "kernelspec": {
   "display_name": "mya-ugeh",
   "language": "python",
   "name": "mya-ugeh"
  },
  "language_info": {
   "codemirror_mode": {
    "name": "ipython",
    "version": 3
   },
   "file_extension": ".py",
   "mimetype": "text/x-python",
   "name": "python",
   "nbconvert_exporter": "python",
   "pygments_lexer": "ipython3",
   "version": "3.10.9"
  }
 },
 "nbformat": 4,
 "nbformat_minor": 2
}
